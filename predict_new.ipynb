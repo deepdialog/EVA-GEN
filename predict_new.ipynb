{
 "cells": [
  {
   "cell_type": "code",
   "execution_count": 1,
   "metadata": {},
   "outputs": [],
   "source": [
    "import torch\n",
    "from transformers import T5ForConditionalGeneration\n",
    "from tokenization_enc_dec import EncDecTokenizer"
   ]
  },
  {
   "cell_type": "code",
   "execution_count": 2,
   "metadata": {},
   "outputs": [],
   "source": [
    "model = T5ForConditionalGeneration.from_pretrained('./torch_eva/')"
   ]
  },
  {
   "cell_type": "code",
   "execution_count": 3,
   "metadata": {},
   "outputs": [],
   "source": [
    "tokenizer = EncDecTokenizer('./EVA/src/bpe_dialog_new/vocab.txt')"
   ]
  },
  {
   "cell_type": "code",
   "execution_count": 9,
   "metadata": {},
   "outputs": [],
   "source": [
    "def single(s='你好'):\n",
    "    input_ids = torch.LongTensor([\n",
    "        tokenizer.encode(s) + [tokenizer.sep_id, tokenizer.get_sentinel_id(0)]]\n",
    "    )\n",
    "    out = model.generate(\n",
    "        input_ids,\n",
    "        decoder_start_token_id=tokenizer.get_sentinel_id(0),\n",
    "        eos_token_id=tokenizer.sep_id,\n",
    "        do_sample=True,\n",
    "        # top_p=0.85,\n",
    "        top_k=1\n",
    "    )\n",
    "    out_text = tokenizer.decode(out.numpy()[0].tolist()[1:-1])\n",
    "    print(out_text)"
   ]
  },
  {
   "cell_type": "code",
   "execution_count": 10,
   "metadata": {},
   "outputs": [
    {
     "name": "stdout",
     "output_type": "stream",
     "text": [
      "您好,请问有什么可以帮您?\n",
      "您好,请问有什么可以帮您?\n",
      "您好,请问有什么可以帮您?\n",
      "您好,请问有什么可以帮您?\n",
      "您好,请问有什么可以帮您?\n",
      "您好,请问有什么可以帮您?\n",
      "您好,请问有什么可以帮您?\n",
      "您好,请问有什么可以帮您?\n",
      "1.18 s ± 126 ms per loop (mean ± std. dev. of 7 runs, 1 loop each)\n"
     ]
    }
   ],
   "source": [
    "%timeit single('你好')"
   ]
  },
  {
   "cell_type": "code",
   "execution_count": 8,
   "metadata": {},
   "outputs": [
    {
     "name": "stdout",
     "output_type": "stream",
     "text": [
      "您好,请问有什么可以帮您?\n",
      "喜欢啊\n",
      "我也想吃\n"
     ]
    }
   ],
   "source": [
    "single('你好')\n",
    "single('你喜欢郭德纲吗')\n",
    "single('我们一起去吃火锅啊')"
   ]
  },
  {
   "cell_type": "code",
   "execution_count": 5,
   "metadata": {},
   "outputs": [
    {
     "name": "stdout",
     "output_type": "stream",
     "text": [
      ">>>你喜欢郭德纲吗\n",
      "不喜欢但是觉得他们的相声很棒\n",
      ">>>你都听过什么相声？\n",
      "相声,你听过没\n",
      ">>>你喜欢吃啥\n",
      "我喜欢吃火锅\n",
      ">>>我们一起去吃火锅吧\n",
      "我喜欢吃火锅\n",
      ">>>你还喜欢吃别的吗\n",
      "我喜欢的,但是不喜欢吃别的,我觉得我会\n",
      ">>>\n"
     ]
    }
   ],
   "source": [
    "sentence = []\n",
    "\n",
    "while True:\n",
    "    text = input('>>>')\n",
    "    if text == 'quit' or len(text.strip()) <= 0:\n",
    "        break\n",
    "    sentence.append(text)\n",
    "\n",
    "    input_ids = []\n",
    "    for x in sentence:\n",
    "        input_ids += tokenizer.encode(x) + [tokenizer.sep_id]\n",
    "    input_ids += [tokenizer.get_sentinel_id(0)]\n",
    "    input_ids = torch.LongTensor([input_ids])\n",
    "    \n",
    "    out = model.generate(\n",
    "        input_ids,\n",
    "        decoder_start_token_id=tokenizer.get_sentinel_id(0),\n",
    "        eos_token_id=tokenizer.sep_id,\n",
    "        do_sample=True,\n",
    "        top_p=0.85,\n",
    "        top_k=10\n",
    "    )\n",
    "    out_text = tokenizer.decode(out.numpy()[0].tolist()[1:-1])\n",
    "    print(out_text)\n",
    "    sentence.append(out_text)"
   ]
  },
  {
   "cell_type": "code",
   "execution_count": null,
   "metadata": {},
   "outputs": [],
   "source": []
  }
 ],
 "metadata": {
  "kernelspec": {
   "display_name": "Python 3",
   "language": "python",
   "name": "python3"
  },
  "language_info": {
   "codemirror_mode": {
    "name": "ipython",
    "version": 3
   },
   "file_extension": ".py",
   "mimetype": "text/x-python",
   "name": "python",
   "nbconvert_exporter": "python",
   "pygments_lexer": "ipython3",
   "version": "3.8.3"
  }
 },
 "nbformat": 4,
 "nbformat_minor": 4
}
