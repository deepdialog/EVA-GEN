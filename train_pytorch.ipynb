{
 "cells": [
  {
   "cell_type": "code",
   "execution_count": 4,
   "metadata": {},
   "outputs": [],
   "source": [
    "import torch\n",
    "from torch.nn.utils.rnn import pad_sequence\n",
    "from transformers import T5ForConditionalGeneration\n",
    "from tokenization_enc_dec import EncDecTokenizer"
   ]
  },
  {
   "cell_type": "code",
   "execution_count": 2,
   "metadata": {},
   "outputs": [],
   "source": [
    "model = T5ForConditionalGeneration.from_pretrained('./torch_eva/')\n",
    "tokenizer = EncDecTokenizer('./EVA/src/bpe_dialog_new/vocab.txt')"
   ]
  },
  {
   "cell_type": "code",
   "execution_count": 52,
   "metadata": {},
   "outputs": [],
   "source": [
    "def data_flow():\n",
    "    import random\n",
    "    while True:\n",
    "        x = '你' * random.randint(1, 5)\n",
    "        y = '我' * random.randint(3, 15)\n",
    "        yield x, y\n",
    "\n",
    "def get_single_data(x='你好', y='你也好'):\n",
    "    input_ids = tokenizer.encode(x) + [tokenizer.sep_id, tokenizer.get_sentinel_id(0)]\n",
    "    y_ids = tokenizer.encode(y)\n",
    "    decoder_input_ids = [tokenizer.get_sentinel_id(0)] + y_ids\n",
    "    labels = y_ids + [tokenizer.sep_id]\n",
    "    return torch.LongTensor(input_ids), torch.LongTensor(decoder_input_ids), torch.LongTensor(labels)\n",
    "\n",
    "\n",
    "def get_batch_data(batch_size=16):\n",
    "    batch = []\n",
    "    for x, y in data_flow():\n",
    "        ids, dids, lbl = get_single_data(x, y)\n",
    "        batch.append((ids, dids, lbl))\n",
    "        if len(batch) >= batch_size:\n",
    "            input_ids = pad_sequence([\n",
    "                x[0]\n",
    "                for x in batch\n",
    "            ], batch_first=True, padding_value=tokenizer.pad_id)\n",
    "            mask = (input_ids != tokenizer.pad_id).to(input_ids.dtype)\n",
    "            decoder_input_ids = pad_sequence([\n",
    "                x[1]\n",
    "                for x in batch\n",
    "            ], batch_first=True, padding_value=tokenizer.pad_id)\n",
    "            decoder_mask = (decoder_input_ids != tokenizer.pad_id).to(input_ids.dtype)\n",
    "            # padding -100是源代码里面的magic number， 参考：\n",
    "            # https://github.com/huggingface/transformers/blob/1c06240e1b3477728129bb58e7b6c7734bb5074e/src/transformers/models/t5/modeling_t5.py#L1580\n",
    "            labels = pad_sequence([\n",
    "                x[2]\n",
    "                for x in batch\n",
    "            ], batch_first=True, padding_value=-100)\n",
    "            yield input_ids, mask, decoder_input_ids, decoder_mask, labels\n",
    "            batch = []"
   ]
  },
  {
   "cell_type": "code",
   "execution_count": 55,
   "metadata": {},
   "outputs": [],
   "source": [
    "fp16 = False\n",
    "cuda = False\n",
    "\n",
    "if fp16:\n",
    "    optimizer = torch.optim.Adam(\n",
    "        model.parameters(),\n",
    "        lr=1e-4,\n",
    "        eps=1e-4\n",
    "    )\n",
    "else:\n",
    "    optimizer = torch.optim.Adam(\n",
    "        model.parameters(),\n",
    "        lr=1e-4,\n",
    "    )"
   ]
  },
  {
   "cell_type": "code",
   "execution_count": 56,
   "metadata": {},
   "outputs": [
    {
     "name": "stderr",
     "output_type": "stream",
     "text": [
      "/opt/conda/lib/python3.8/site-packages/torch/cuda/amp/autocast_mode.py:120: UserWarning: torch.cuda.amp.autocast only affects CUDA ops, but CUDA is not available.  Disabling.\n",
      "  warnings.warn(\"torch.cuda.amp.autocast only affects CUDA ops, but CUDA is not available.  Disabling.\")\n"
     ]
    }
   ],
   "source": [
    "optimizer.zero_grad()\n",
    "for x, m0, y, m1, z in get_batch_data(3):\n",
    "    if cuda:\n",
    "        x = x.cuda()\n",
    "        y = y.cuda()\n",
    "        z = z.cuda()\n",
    "        m0 = m0.cuda()\n",
    "        m1 = m1.cuda()\n",
    "    with torch.cuda.amp.autocast():\n",
    "        out = model(\n",
    "            input_ids=x,\n",
    "            attention_mask=m0,\n",
    "            decoder_input_ids=y,\n",
    "            decoder_attention_mask=m1,\n",
    "            labels=z\n",
    "        )\n",
    "        loss = out.loss\n",
    "    loss.backward()\n",
    "    optimizer.step()\n",
    "    optimizer.zero_grad()\n",
    "    break"
   ]
  },
  {
   "cell_type": "code",
   "execution_count": null,
   "metadata": {},
   "outputs": [],
   "source": []
  },
  {
   "cell_type": "code",
   "execution_count": null,
   "metadata": {},
   "outputs": [],
   "source": []
  }
 ],
 "metadata": {
  "kernelspec": {
   "display_name": "Python 3",
   "language": "python",
   "name": "python3"
  },
  "language_info": {
   "codemirror_mode": {
    "name": "ipython",
    "version": 3
   },
   "file_extension": ".py",
   "mimetype": "text/x-python",
   "name": "python",
   "nbconvert_exporter": "python",
   "pygments_lexer": "ipython3",
   "version": "3.8.3"
  }
 },
 "nbformat": 4,
 "nbformat_minor": 4
}
