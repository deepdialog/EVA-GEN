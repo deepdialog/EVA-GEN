{
 "cells": [
  {
   "cell_type": "code",
   "execution_count": 4,
   "metadata": {},
   "outputs": [],
   "source": [
    "import torch\n",
    "from torch.nn.utils.rnn import pad_sequence\n",
    "from transformers import T5ForConditionalGeneration\n",
    "from tokenization_enc_dec import EncDecTokenizer"
   ]
  },
  {
   "cell_type": "code",
   "execution_count": 2,
   "metadata": {},
   "outputs": [],
   "source": [
    "model = T5ForConditionalGeneration.from_pretrained('./torch_eva/')\n",
    "tokenizer = EncDecTokenizer('./EVA/src/bpe_dialog_new/vocab.txt')"
   ]
  },
  {
   "cell_type": "code",
   "execution_count": 52,
   "metadata": {},
   "outputs": [],
   "source": [
    "def data_flow():\n",
    "    import random\n",
    "    while True:\n",
    "        x = '你' * random.randint(1, 5)\n",
    "        y = '我' * random.randint(3, 15)\n",
    "        yield x, y\n",
    "\n",
    "def get_single_data(x='你好', y='你也好'):\n",
    "    input_ids = tokenizer.encode(x) + [tokenizer.sep_id, tokenizer.get_sentinel_id(0)]\n",
    "    y_ids = tokenizer.encode(y)\n",
    "    decoder_input_ids = [tokenizer.get_sentinel_id(0)] + y_ids\n",
    "    labels = y_ids + [tokenizer.sep_id]\n",
    "    return torch.LongTensor(input_ids), torch.LongTensor(decoder_input_ids), torch.LongTensor(labels)\n",
    "\n",
    "\n",
    "def get_batch_data(batch_size=16):\n",
    "    batch = []\n",
    "    for x, y in data_flow():\n",
    "        ids, dids, lbl = get_single_data(x, y)\n",
    "        batch.append((ids, dids, lbl))\n",
    "        if len(batch) >= batch_size:\n",
    "            input_ids = pad_sequence([\n",
    "                x[0]\n",
    "                for x in batch\n",
    "            ], batch_first=True, padding_value=tokenizer.pad_id)\n",
    "            mask = (input_ids != tokenizer.pad_id).to(input_ids.dtype)\n",
    "            decoder_input_ids = pad_sequence([\n",
    "                x[1]\n",
    "                for x in batch\n",
    "            ], batch_first=True, padding_value=tokenizer.pad_id)\n",
    "            decoder_mask = (decoder_input_ids != tokenizer.pad_id).to(input_ids.dtype)\n",
    "            # padding -100是源代码里面的magic number， 参考：\n",
    "            # https://github.com/huggingface/transformers/blob/1c06240e1b3477728129bb58e7b6c7734bb5074e/src/transformers/models/t5/modeling_t5.py#L1580\n",
    "            labels = pad_sequence([\n",
    "                x[2]\n",
    "                for x in batch\n",
    "            ], batch_first=True, padding_value=-100)\n",
    "            yield input_ids, mask, decoder_input_ids, decoder_mask, labels\n",
    "            batch = []"
   ]
  },
  {
   "cell_type": "code",
   "execution_count": 55,
   "metadata": {},
   "outputs": [],
   "source": [
    "fp16 = False\n",
    "cuda = False\n",
    "\n",
    "if fp16:\n",
    "    optimizer = torch.optim.Adam(\n",
    "        model.parameters(),\n",
    "        lr=1e-4,\n",
    "        eps=1e-4\n",
    "    )\n",
    "else:\n",
    "    optimizer = torch.optim.Adam(\n",
    "        model.parameters(),\n",
    "        lr=1e-4,\n",
    "    )"
   ]
  },
  {
   "cell_type": "code",
   "execution_count": 1,
   "metadata": {},
   "outputs": [],
   "source": [
    "step = 0"
   ]
  },
  {
   "cell_type": "code",
   "execution_count": 2,
   "metadata": {},
   "outputs": [
    {
     "ename": "NameError",
     "evalue": "name 'optimizer' is not defined",
     "output_type": "error",
     "traceback": [
      "\u001b[0;31m---------------------------------------------------------------------------\u001b[0m",
      "\u001b[0;31mNameError\u001b[0m                                 Traceback (most recent call last)",
      "\u001b[0;32m<ipython-input-2-728a913cdeee>\u001b[0m in \u001b[0;36m<module>\u001b[0;34m\u001b[0m\n\u001b[1;32m      1\u001b[0m \u001b[0mlosses\u001b[0m \u001b[0;34m=\u001b[0m \u001b[0;34m[\u001b[0m\u001b[0;34m]\u001b[0m\u001b[0;34m\u001b[0m\u001b[0;34m\u001b[0m\u001b[0m\n\u001b[0;32m----> 2\u001b[0;31m \u001b[0moptimizer\u001b[0m\u001b[0;34m.\u001b[0m\u001b[0mzero_grad\u001b[0m\u001b[0;34m(\u001b[0m\u001b[0;34m)\u001b[0m\u001b[0;34m\u001b[0m\u001b[0;34m\u001b[0m\u001b[0m\n\u001b[0m\u001b[1;32m      3\u001b[0m \u001b[0;32mfor\u001b[0m \u001b[0mx\u001b[0m\u001b[0;34m,\u001b[0m \u001b[0mm0\u001b[0m\u001b[0;34m,\u001b[0m \u001b[0my\u001b[0m\u001b[0;34m,\u001b[0m \u001b[0mm1\u001b[0m\u001b[0;34m,\u001b[0m \u001b[0mz\u001b[0m \u001b[0;32min\u001b[0m \u001b[0mget_batch_data\u001b[0m\u001b[0;34m(\u001b[0m\u001b[0;36m3\u001b[0m\u001b[0;34m)\u001b[0m\u001b[0;34m:\u001b[0m\u001b[0;34m\u001b[0m\u001b[0;34m\u001b[0m\u001b[0m\n\u001b[1;32m      4\u001b[0m     \u001b[0;32mif\u001b[0m \u001b[0mcuda\u001b[0m\u001b[0;34m:\u001b[0m\u001b[0;34m\u001b[0m\u001b[0;34m\u001b[0m\u001b[0m\n\u001b[1;32m      5\u001b[0m         \u001b[0mx\u001b[0m \u001b[0;34m=\u001b[0m \u001b[0mx\u001b[0m\u001b[0;34m.\u001b[0m\u001b[0mcuda\u001b[0m\u001b[0;34m(\u001b[0m\u001b[0;34m)\u001b[0m\u001b[0;34m\u001b[0m\u001b[0;34m\u001b[0m\u001b[0m\n",
      "\u001b[0;31mNameError\u001b[0m: name 'optimizer' is not defined"
     ]
    }
   ],
   "source": [
    "losses = []\n",
    "optimizer.zero_grad()\n",
    "for x, m0, y, m1, z in get_batch_data(3):\n",
    "    if cuda:\n",
    "        x = x.cuda()\n",
    "        y = y.cuda()\n",
    "        z = z.cuda()\n",
    "        m0 = m0.cuda()\n",
    "        m1 = m1.cuda()\n",
    "    with torch.cuda.amp.autocast():\n",
    "        out = model(\n",
    "            input_ids=x,\n",
    "            attention_mask=m0,\n",
    "            decoder_input_ids=y,\n",
    "            decoder_attention_mask=m1,\n",
    "            labels=z\n",
    "        )\n",
    "        loss = out.loss\n",
    "    loss.backward()\n",
    "    optimizer.step()\n",
    "    optimizer.zero_grad()\n",
    "    losses.append(loss.detach().cpu().numpy())\n",
    "    losses = losses[-1000:]\n",
    "    pbar.set_description(f'step: {step} loss: {np.mean(losses):.4f}')\n",
    "    step += 1"
   ]
  },
  {
   "cell_type": "code",
   "execution_count": null,
   "metadata": {},
   "outputs": [],
   "source": []
  },
  {
   "cell_type": "code",
   "execution_count": null,
   "metadata": {},
   "outputs": [],
   "source": []
  }
 ],
 "metadata": {
  "kernelspec": {
   "display_name": "Python 3",
   "language": "python",
   "name": "python3"
  },
  "language_info": {
   "codemirror_mode": {
    "name": "ipython",
    "version": 3
   },
   "file_extension": ".py",
   "mimetype": "text/x-python",
   "name": "python",
   "nbconvert_exporter": "python",
   "pygments_lexer": "ipython3",
   "version": "3.8.3"
  }
 },
 "nbformat": 4,
 "nbformat_minor": 4
}
